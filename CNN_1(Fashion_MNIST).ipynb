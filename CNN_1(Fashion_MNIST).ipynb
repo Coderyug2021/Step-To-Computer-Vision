{
  "nbformat": 4,
  "nbformat_minor": 0,
  "metadata": {
    "colab": {
      "name": "CNN_1(Fashion_MNIST).ipynb",
      "provenance": [],
      "collapsed_sections": [
        "CRbhLHQ95Pdt",
        "CDnvsPa-5NSZ",
        "L726M1Zi5G-2",
        "W8CqvJyd5JU3",
        "-aifoLdEAd0-",
        "OC6pHKQDAhOZ",
        "yqWq6JbUAlMk",
        "lBQAbNDjB8Z0",
        "zm9G2go5DLdV",
        "bpxSbIwAD0W0",
        "FLQ2fW9LEuES",
        "yhlvVxpOLCd4"
      ],
      "toc_visible": true
    },
    "kernelspec": {
      "name": "python3",
      "display_name": "Python 3"
    },
    "language_info": {
      "name": "python"
    },
    "accelerator": "GPU"
  },
  "cells": [
    {
      "cell_type": "markdown",
      "source": [
        "#$Imports$\n",
        "----\n",
        "`Required Imports`\n",
        "\n",
        "---"
      ],
      "metadata": {
        "id": "CRbhLHQ95Pdt"
      }
    },
    {
      "cell_type": "code",
      "source": [
        "import keras_tuner as kt\n",
        "import tensorflow as tf\n",
        "from tensorflow import keras\n",
        "from tensorflow.keras import layers\n",
        "import numpy as np\n",
        "import matplotlib.pyplot as plt"
      ],
      "metadata": {
        "id": "6NCpLYs-mpmZ"
      },
      "execution_count": 2,
      "outputs": []
    },
    {
      "cell_type": "markdown",
      "source": [
        "#$Data$\n",
        "---\n",
        "`Collecting the Fashion Mnist data and going through basic Preprocessing`\n",
        "\n",
        "---"
      ],
      "metadata": {
        "id": "CDnvsPa-5NSZ"
      }
    },
    {
      "cell_type": "code",
      "source": [
        "class_names = [\"T_shirt\",\"Trouser\",\"Pullover\",\"Dress\",\"Coat\",\"Sandal\",\"Shirt\",\"Sneaker\",\"Bag\",\"Ankle boot\"]"
      ],
      "metadata": {
        "id": "nHTg9dkioQyp"
      },
      "execution_count": 3,
      "outputs": []
    },
    {
      "cell_type": "code",
      "source": [
        "(X_train_FMnist,Y_train_FMnist), (X_test_FMnist, Y_test_FMnist) = keras.datasets.fashion_mnist.load_data()\n",
        "X_train_FMnist = X_train_FMnist / 255.0\n",
        "X_test = X_test_FMnist / 255.0"
      ],
      "metadata": {
        "id": "Eqnhc2kum3iW"
      },
      "execution_count": 4,
      "outputs": []
    },
    {
      "cell_type": "code",
      "source": [
        "X_train = X_train_FMnist[:40000]\n",
        "X_valid = X_train_FMnist[40000:]\n",
        "Y_train = Y_train_FMnist[:40000]\n",
        "Y_valid = Y_train_FMnist[40000:]"
      ],
      "metadata": {
        "id": "mDfAoYpfnkSk"
      },
      "execution_count": 5,
      "outputs": []
    },
    {
      "cell_type": "code",
      "source": [
        "X_valid.shape"
      ],
      "metadata": {
        "colab": {
          "base_uri": "https://localhost:8080/"
        },
        "id": "O4PZrVdd3yku",
        "outputId": "f4bff7a2-c8d5-40b7-a6b1-09d019f0ba61"
      },
      "execution_count": 6,
      "outputs": [
        {
          "output_type": "execute_result",
          "data": {
            "text/plain": [
              "(20000, 28, 28)"
            ]
          },
          "metadata": {},
          "execution_count": 6
        }
      ]
    },
    {
      "cell_type": "code",
      "source": [
        "np.bincount(Y_train_FMnist) # There is no class imbalance"
      ],
      "metadata": {
        "colab": {
          "base_uri": "https://localhost:8080/"
        },
        "id": "UlJippVWoejb",
        "outputId": "9ad399e6-d1b1-43df-cde7-0162a05af8ec"
      },
      "execution_count": 7,
      "outputs": [
        {
          "output_type": "execute_result",
          "data": {
            "text/plain": [
              "array([6000, 6000, 6000, 6000, 6000, 6000, 6000, 6000, 6000, 6000])"
            ]
          },
          "metadata": {},
          "execution_count": 7
        }
      ]
    },
    {
      "cell_type": "code",
      "source": [
        "def plot_img(i,data):\n",
        "  plt.imshow(np.array(data[0][i]).reshape(28,28),cmap=\"gray\")\n",
        "  plt.title(class_names[data[1][i]])\n",
        "  plt.show()"
      ],
      "metadata": {
        "id": "EUnN_ojinsVD"
      },
      "execution_count": 8,
      "outputs": []
    },
    {
      "cell_type": "code",
      "source": [
        "plot_img(5,[X_train,Y_train_FMnist])"
      ],
      "metadata": {
        "colab": {
          "base_uri": "https://localhost:8080/",
          "height": 281
        },
        "id": "i36REGTAn7z0",
        "outputId": "31a441dd-cd34-4a1e-d400-47a37e42d2d0"
      },
      "execution_count": 9,
      "outputs": [
        {
          "output_type": "display_data",
          "data": {
            "image/png": "[encoded data removed]",
            "text/plain": [
              "<Figure size 432x288 with 1 Axes>"
            ]
          },
          "metadata": {
            "needs_background": "light"
          }
        }
      ]
    },
    {
      "cell_type": "code",
      "source": [
        "plt.figure(figsize=(10,5))\n",
        "n = 1\n",
        "for i in range(80,90):\n",
        "  plt.subplot(2,5,n)\n",
        "  plt.axis(\"off\")\n",
        "  plt.imshow(np.array(X_train[i]).reshape(28,28),cmap=\"gray\")\n",
        "  plt.title(class_names[Y_train_FMnist[i]]) # Here 0s are black and the white(shades) are 1s(greater than 0)\n",
        "  n+=1"
      ],
      "metadata": {
        "colab": {
          "base_uri": "https://localhost:8080/",
          "height": 291
        },
        "id": "xp7oGh6yn9nb",
        "outputId": "293f8d56-2876-4cff-c64f-b3fd26a7aece"
      },
      "execution_count": 10,
      "outputs": [
        {
          "output_type": "display_data",
          "data": {
            "image/png": "[encoded data removed]",
            "text/plain": [
              "<Figure size 720x360 with 10 Axes>"
            ]
          },
          "metadata": {
            "needs_background": "light"
          }
        }
      ]
    },
    {
      "cell_type": "markdown",
      "source": [
        "#$BaseLine$\n",
        "---\n",
        "`A base small model, as a threshold for other models performance`\n",
        "\n",
        "---"
      ],
      "metadata": {
        "id": "L726M1Zi5G-2"
      }
    },
    {
      "cell_type": "code",
      "source": [
        "Baseline_model = keras.Sequential([\n",
        "                             layers.Conv2D(64,5,2,padding=\"same\",activation=\"relu\",kernel_initializer=\"he_normal\",input_shape=(28,28,1)),\n",
        "                             layers.MaxPool2D(padding=\"same\"),\n",
        "                             layers.Conv2D(128,3,1,padding=\"same\",activation=\"relu\",kernel_initializer=\"he_normal\"),\n",
        "                             layers.GlobalAveragePooling2D(),\n",
        "                             layers.Flatten(),\n",
        "                             layers.Dense(64,activation=\"relu\",kernel_initializer=\"he_normal\"),\n",
        "                             layers.Dropout(0.5),\n",
        "                             layers.Dense(10,activation=\"softmax\",kernel_initializer=\"glorot_uniform\"),\n",
        "])\n",
        "Baseline_model.compile(\n",
        "    loss=keras.losses.sparse_categorical_crossentropy,\n",
        "    optimizer=\"adam\",\n",
        "    metrics=[\"accuracy\"]\n",
        ")\n",
        "Baseline_model.fit(\n",
        "    X_train,Y_train,\n",
        "    validation_data=(X_valid,Y_valid),\n",
        "    epochs=50,\n",
        "    callbacks=[keras.callbacks.EarlyStopping(patience=3)]\n",
        ")\n",
        "print(f\"Eval : {Baseline_model.evaluate(X_test,Y_test_FMnist)}\")"
      ],
      "metadata": {
        "colab": {
          "base_uri": "https://localhost:8080/"
        },
        "id": "3acXFmIJ4WtB",
        "outputId": "b9055238-ca3b-4879-eeee-6d231668145e"
      },
      "execution_count": 15,
      "outputs": [
        {
          "output_type": "stream",
          "name": "stdout",
          "text": [
            "1250/1250 [==============================] - 8s 6ms/step - loss: 0.2918 - accuracy: 0.8965 - val_loss: 0.2859 - val_accuracy: 0.8977\n",
            "313/313 [==============================] - 1s 4ms/step - loss: 0.3073 - accuracy: 0.8910\n",
            "Eval : [0.30727022886276245, 0.890999972820282]\n"
          ]
        }
      ]
    },
    {
      "cell_type": "code",
      "source": [
        "baseline_stats = [0.30727022886276245, 0.890999972820282]"
      ],
      "metadata": {
        "id": "y3ZbCjNQ-Pjp"
      },
      "execution_count": 24,
      "outputs": []
    },
    {
      "cell_type": "markdown",
      "source": [
        "#$Models$\n",
        "---\n",
        "`Trying out different architectures and improving them`\n",
        "\n",
        "---"
      ],
      "metadata": {
        "id": "W8CqvJyd5JU3"
      }
    },
    {
      "cell_type": "markdown",
      "source": [
        "##$Model_v1$"
      ],
      "metadata": {
        "id": "-aifoLdEAd0-"
      }
    },
    {
      "cell_type": "code",
      "source": [
        "Model_v1 = keras.Sequential([\n",
        "                             layers.Conv2D(64,5,2,padding=\"same\",activation=\"relu\",kernel_initializer=\"he_normal\",input_shape=(28,28,1)),\n",
        "                             layers.MaxPool2D(padding=\"same\"),\n",
        "                             layers.Conv2D(128,3,1,padding=\"same\",activation=\"relu\",kernel_initializer=\"he_normal\"),\n",
        "                             layers.MaxPool2D(padding=\"same\"),\n",
        "                             layers.Conv2D(256,3,1,padding=\"same\",activation=\"relu\",kernel_initializer=\"he_normal\"),\n",
        "                             layers.GlobalAveragePooling2D(),\n",
        "                             layers.Flatten(),\n",
        "                             layers.BatchNormalization(),\n",
        "                             layers.Dense(128,activation=\"relu\",kernel_initializer=\"he_normal\"),\n",
        "                             layers.Dropout(0.5),\n",
        "                             layers.Dense(64,activation=\"relu\",kernel_initializer=\"he_normal\"),\n",
        "                             layers.Dense(10,activation=\"softmax\",kernel_initializer=\"glorot_uniform\"),\n",
        "])"
      ],
      "metadata": {
        "id": "6maWervApMst"
      },
      "execution_count": 11,
      "outputs": []
    },
    {
      "cell_type": "code",
      "source": [
        "Model_v1.compile(\n",
        "    loss=keras.losses.sparse_categorical_crossentropy,\n",
        "    optimizer=\"adam\",\n",
        "    metrics=[\"accuracy\"]\n",
        ")"
      ],
      "metadata": {
        "id": "v9qrtuCQyOWF"
      },
      "execution_count": 12,
      "outputs": []
    },
    {
      "cell_type": "code",
      "source": [
        "Model_v1.fit(\n",
        "    X_train,Y_train,\n",
        "    validation_data=(X_valid,Y_valid),\n",
        "    epochs=100,\n",
        "    callbacks=[keras.callbacks.EarlyStopping(patience=3)]\n",
        ")"
      ],
      "metadata": {
        "id": "KZyUuBa8ylbZ",
        "colab": {
          "base_uri": "https://localhost:8080/"
        },
        "outputId": "dbe4e974-c16f-4d60-e8a9-2f07f8e6e431"
      },
      "execution_count": 14,
      "outputs": [
        {
          "output_type": "stream",
          "name": "stdout",
          "text": [
            "Epoch 1/100\n",
            "1250/1250 [==============================] - 22s 16ms/step - loss: 0.6254 - accuracy: 0.7751 - val_loss: 0.5537 - val_accuracy: 0.8143\n",
            "Epoch 2/100\n",
            "1250/1250 [==============================] - 16s 13ms/step - loss: 0.3981 - accuracy: 0.8589 - val_loss: 0.4725 - val_accuracy: 0.8383\n",
            "Epoch 3/100\n",
            "1250/1250 [==============================] - 16s 13ms/step - loss: 0.3364 - accuracy: 0.8811 - val_loss: 0.2984 - val_accuracy: 0.8931\n",
            "Epoch 4/100\n",
            "1250/1250 [==============================] - 16s 13ms/step - loss: 0.3018 - accuracy: 0.8917 - val_loss: 0.3102 - val_accuracy: 0.8876\n",
            "Epoch 5/100\n",
            "1250/1250 [==============================] - 17s 14ms/step - loss: 0.2753 - accuracy: 0.9004 - val_loss: 0.3558 - val_accuracy: 0.8722\n",
            "Epoch 6/100\n",
            "1250/1250 [==============================] - 17s 14ms/step - loss: 0.2580 - accuracy: 0.9069 - val_loss: 0.2855 - val_accuracy: 0.9014\n",
            "Epoch 7/100\n",
            "1250/1250 [==============================] - 18s 14ms/step - loss: 0.2367 - accuracy: 0.9139 - val_loss: 0.2791 - val_accuracy: 0.9028\n",
            "Epoch 8/100\n",
            "1250/1250 [==============================] - 18s 14ms/step - loss: 0.2175 - accuracy: 0.9217 - val_loss: 0.2967 - val_accuracy: 0.8966\n",
            "Epoch 9/100\n",
            "1250/1250 [==============================] - 16s 13ms/step - loss: 0.2102 - accuracy: 0.9241 - val_loss: 0.3041 - val_accuracy: 0.9011\n",
            "Epoch 10/100\n",
            "1250/1250 [==============================] - 16s 13ms/step - loss: 0.1905 - accuracy: 0.9309 - val_loss: 0.2696 - val_accuracy: 0.9089\n",
            "Epoch 11/100\n",
            "1250/1250 [==============================] - 16s 13ms/step - loss: 0.1790 - accuracy: 0.9342 - val_loss: 0.2748 - val_accuracy: 0.9121\n",
            "Epoch 12/100\n",
            "1250/1250 [==============================] - 16s 13ms/step - loss: 0.1686 - accuracy: 0.9368 - val_loss: 0.2778 - val_accuracy: 0.9089\n",
            "Epoch 13/100\n",
            "1250/1250 [==============================] - 15s 12ms/step - loss: 0.1547 - accuracy: 0.9424 - val_loss: 0.2763 - val_accuracy: 0.9109\n"
          ]
        },
        {
          "output_type": "execute_result",
          "data": {
            "text/plain": [
              "<keras.callbacks.History at 0x7f71a3254450>"
            ]
          },
          "metadata": {},
          "execution_count": 14
        }
      ]
    },
    {
      "cell_type": "markdown",
      "source": [
        "There is a little bit of overfitting"
      ],
      "metadata": {
        "id": "-uuAr19V5cuv"
      }
    },
    {
      "cell_type": "code",
      "source": [
        "print(f\"Eval : {Model_v1.evaluate(X_test,Y_test_FMnist)}\")"
      ],
      "metadata": {
        "id": "Vit4bkwczJr5",
        "colab": {
          "base_uri": "https://localhost:8080/"
        },
        "outputId": "ec164fe6-db4b-4c9a-ce51-90ae901afc1a"
      },
      "execution_count": 16,
      "outputs": [
        {
          "output_type": "stream",
          "name": "stdout",
          "text": [
            "313/313 [==============================] - 2s 5ms/step - loss: 0.2987 - accuracy: 0.9024\n",
            "Eval : [0.29866519570350647, 0.902400016784668]\n"
          ]
        }
      ]
    },
    {
      "cell_type": "code",
      "source": [
        "Model_v1_stats = [0.29866519570350647, 0.902400016784668]"
      ],
      "metadata": {
        "id": "MXZHLfBH_Nsb"
      },
      "execution_count": 27,
      "outputs": []
    },
    {
      "cell_type": "markdown",
      "source": [
        "This is better than the base model."
      ],
      "metadata": {
        "id": "kurv2L0y6vsd"
      }
    },
    {
      "cell_type": "markdown",
      "source": [
        "##$Model_v2$"
      ],
      "metadata": {
        "id": "OC6pHKQDAhOZ"
      }
    },
    {
      "cell_type": "code",
      "source": [
        "Model_v2 = keras.Sequential([\n",
        "                             layers.Conv2D(64,5,2,padding=\"same\",activation=\"relu\",kernel_initializer=\"he_normal\",input_shape=(28,28,1)),\n",
        "                             layers.MaxPool2D(),\n",
        "                             layers.Conv2D(128,3,1,padding=\"same\",activation=\"relu\",kernel_initializer=\"he_normal\"),\n",
        "                             layers.MaxPool2D(),\n",
        "                             layers.Conv2D(128,3,1,padding=\"same\",activation=\"relu\",kernel_initializer=\"he_normal\"),\n",
        "                             layers.GlobalAveragePooling2D(),\n",
        "                             layers.Flatten(),\n",
        "                             layers.Dense(64,activation=\"relu\",kernel_initializer=\"he_normal\"),\n",
        "                             layers.Dropout(0.5),\n",
        "                             layers.Dense(10,activation=\"softmax\",kernel_initializer=\"glorot_uniform\"),\n",
        "])\n",
        "Model_v2.compile(\n",
        "    loss=keras.losses.sparse_categorical_crossentropy,\n",
        "    optimizer=\"adam\",\n",
        "    metrics=[\"accuracy\"]\n",
        ")\n",
        "Model_v2.fit(\n",
        "    X_train,Y_train,\n",
        "    validation_data=(X_valid,Y_valid),\n",
        "    epochs=100,\n",
        "    callbacks=[keras.callbacks.EarlyStopping(patience=3)]\n",
        ")"
      ],
      "metadata": {
        "colab": {
          "base_uri": "https://localhost:8080/"
        },
        "id": "EIoxY8ZN5mU3",
        "outputId": "3054c886-5698-4aec-dd29-00e21cc7505a"
      },
      "execution_count": 25,
      "outputs": [
        {
          "output_type": "stream",
          "name": "stdout",
          "text": [
            "Epoch 1/100\n",
            "1250/1250 [==============================] - 13s 10ms/step - loss: 0.7739 - accuracy: 0.7200 - val_loss: 0.4237 - val_accuracy: 0.8400\n",
            "Epoch 2/100\n",
            "1250/1250 [==============================] - 13s 10ms/step - loss: 0.4546 - accuracy: 0.8414 - val_loss: 0.3502 - val_accuracy: 0.8734\n",
            "Epoch 3/100\n",
            "1250/1250 [==============================] - 13s 11ms/step - loss: 0.3765 - accuracy: 0.8698 - val_loss: 0.3358 - val_accuracy: 0.8773\n",
            "Epoch 4/100\n",
            "1250/1250 [==============================] - 13s 11ms/step - loss: 0.3266 - accuracy: 0.8884 - val_loss: 0.3010 - val_accuracy: 0.8953\n",
            "Epoch 5/100\n",
            "1250/1250 [==============================] - 13s 11ms/step - loss: 0.2916 - accuracy: 0.9000 - val_loss: 0.2799 - val_accuracy: 0.8982\n",
            "Epoch 6/100\n",
            "1250/1250 [==============================] - 13s 10ms/step - loss: 0.2624 - accuracy: 0.9086 - val_loss: 0.2832 - val_accuracy: 0.8974\n",
            "Epoch 7/100\n",
            "1250/1250 [==============================] - 12s 10ms/step - loss: 0.2365 - accuracy: 0.9174 - val_loss: 0.2568 - val_accuracy: 0.9081\n",
            "Epoch 8/100\n",
            "1250/1250 [==============================] - 13s 10ms/step - loss: 0.2202 - accuracy: 0.9220 - val_loss: 0.2705 - val_accuracy: 0.9074\n",
            "Epoch 9/100\n",
            "1250/1250 [==============================] - 14s 11ms/step - loss: 0.1970 - accuracy: 0.9302 - val_loss: 0.2546 - val_accuracy: 0.9129\n",
            "Epoch 10/100\n",
            "1250/1250 [==============================] - 14s 11ms/step - loss: 0.1734 - accuracy: 0.9386 - val_loss: 0.2906 - val_accuracy: 0.9036\n",
            "Epoch 11/100\n",
            "1250/1250 [==============================] - 13s 11ms/step - loss: 0.1616 - accuracy: 0.9416 - val_loss: 0.2774 - val_accuracy: 0.9101\n",
            "Epoch 12/100\n",
            "1250/1250 [==============================] - 13s 11ms/step - loss: 0.1456 - accuracy: 0.9479 - val_loss: 0.2777 - val_accuracy: 0.9112\n"
          ]
        },
        {
          "output_type": "execute_result",
          "data": {
            "text/plain": [
              "<keras.callbacks.History at 0x7f71276bb9d0>"
            ]
          },
          "metadata": {},
          "execution_count": 25
        }
      ]
    },
    {
      "cell_type": "markdown",
      "source": [
        "This is again overfitting"
      ],
      "metadata": {
        "id": "IGs1G05i_tiv"
      }
    },
    {
      "cell_type": "code",
      "source": [
        "print(f\"Eval : {Model_v2.evaluate(X_test,Y_test_FMnist)}\")"
      ],
      "metadata": {
        "colab": {
          "base_uri": "https://localhost:8080/"
        },
        "id": "vvVi5g8h7H2n",
        "outputId": "90ef0ba5-2681-4c2d-f651-9e15de89e52d"
      },
      "execution_count": 26,
      "outputs": [
        {
          "output_type": "stream",
          "name": "stdout",
          "text": [
            "313/313 [==============================] - 2s 5ms/step - loss: 0.3055 - accuracy: 0.9053\n",
            "Eval : [0.30554068088531494, 0.9053000211715698]\n"
          ]
        }
      ]
    },
    {
      "cell_type": "code",
      "source": [
        "Model_v2_stats = [0.30554068088531494, 0.9053000211715698]"
      ],
      "metadata": {
        "id": "BHUs95Hm8b-Q"
      },
      "execution_count": 28,
      "outputs": []
    },
    {
      "cell_type": "markdown",
      "source": [
        "##$Model_v3$"
      ],
      "metadata": {
        "id": "yqWq6JbUAlMk"
      }
    },
    {
      "cell_type": "code",
      "source": [
        "Model_v3 = keras.Sequential([\n",
        "                             layers.Conv2D(32,3,1,padding=\"same\",activation=\"relu\",kernel_initializer=\"he_normal\",input_shape=(28,28,1)),\n",
        "                             layers.MaxPool2D(),\n",
        "                             layers.Conv2D(64,3,1,padding=\"same\",activation=\"relu\",kernel_initializer=\"he_normal\"),\n",
        "                             layers.Conv2D(64,3,1,padding=\"same\",activation=\"relu\",kernel_initializer=\"he_normal\"),\n",
        "                             layers.GlobalAveragePooling2D(),\n",
        "                             layers.Flatten(),\n",
        "                             layers.BatchNormalization(),\n",
        "                             layers.Dense(32,activation=\"relu\",kernel_initializer=\"he_normal\"),\n",
        "                             layers.Dropout(0.5),\n",
        "                             layers.Dense(10,activation=\"softmax\",kernel_initializer=\"glorot_uniform\"),\n",
        "])\n",
        "Model_v3.compile(\n",
        "    loss=keras.losses.sparse_categorical_crossentropy,\n",
        "    optimizer=\"adam\",\n",
        "    metrics=[\"accuracy\"]\n",
        ")\n",
        "Model_v3.fit(\n",
        "    X_train,Y_train,\n",
        "    validation_data=(X_valid,Y_valid),\n",
        "    epochs=100,\n",
        "    callbacks=[keras.callbacks.EarlyStopping(patience=3)]\n",
        ")"
      ],
      "metadata": {
        "id": "Tch5TZ5m_0hH"
      },
      "execution_count": null,
      "outputs": []
    },
    {
      "cell_type": "code",
      "source": [
        "Model_v3_stats = Model_v3.evaluate(X_test,Y_test_FMnist)"
      ],
      "metadata": {
        "colab": {
          "base_uri": "https://localhost:8080/"
        },
        "id": "SHXn8JAPAYA3",
        "outputId": "ebfb9222-9854-4d45-b34b-0b87f7168516"
      },
      "execution_count": 31,
      "outputs": [
        {
          "output_type": "stream",
          "name": "stdout",
          "text": [
            "313/313 [==============================] - 2s 7ms/step - loss: 0.3671 - accuracy: 0.8708\n"
          ]
        }
      ]
    },
    {
      "cell_type": "code",
      "source": [
        "print(f\"Eval : {Model_v3_stats[0],Model_v3_stats[1]}\")"
      ],
      "metadata": {
        "colab": {
          "base_uri": "https://localhost:8080/"
        },
        "id": "QAM-PKjBBsip",
        "outputId": "5e0e57e5-361b-4126-b830-221186726ffc"
      },
      "execution_count": 33,
      "outputs": [
        {
          "output_type": "stream",
          "name": "stdout",
          "text": [
            "Eval : (0.367096871137619, 0.8708000183105469)\n"
          ]
        }
      ]
    },
    {
      "cell_type": "markdown",
      "source": [
        "That's bad than baseline"
      ],
      "metadata": {
        "id": "0WKmJAh5B2lg"
      }
    },
    {
      "cell_type": "markdown",
      "source": [
        "##$Model_v4$"
      ],
      "metadata": {
        "id": "lBQAbNDjB8Z0"
      }
    },
    {
      "cell_type": "code",
      "source": [
        "Model_v4 = keras.Sequential([\n",
        "                             layers.Conv2D(32,5,2,padding=\"same\",activation=\"relu\",kernel_initializer=\"he_normal\",input_shape=(28,28,1)),\n",
        "                             layers.MaxPool2D(),\n",
        "                             layers.Conv2D(64,3,1,padding=\"same\",activation=\"relu\",kernel_initializer=\"he_normal\"),\n",
        "                             layers.MaxPool2D(),\n",
        "                             layers.Conv2D(64,3,1,padding=\"same\",activation=\"relu\",kernel_initializer=\"he_normal\"),\n",
        "                             layers.GlobalAveragePooling2D(),\n",
        "                             layers.Flatten(),\n",
        "                             layers.Dense(10,activation=\"softmax\",kernel_initializer=\"glorot_uniform\"),\n",
        "])\n",
        "Model_v4.compile(\n",
        "    loss=keras.losses.sparse_categorical_crossentropy,\n",
        "    optimizer=\"adam\",\n",
        "    metrics=[\"accuracy\"]\n",
        ")\n",
        "Model_v4.fit(\n",
        "    X_train,Y_train,\n",
        "    validation_data=(X_valid,Y_valid),\n",
        "    epochs=100,\n",
        "    callbacks=[keras.callbacks.EarlyStopping(patience=3)]\n",
        ")\n",
        "Model_v4_stats = Model_v4.evaluate(X_test,Y_test_FMnist)\n",
        "print(f\"Eval : {Model_v4_stats[0],Model_v4_stats[1]}\")"
      ],
      "metadata": {
        "colab": {
          "base_uri": "https://localhost:8080/"
        },
        "id": "j6SkSOIaB-AT",
        "outputId": "c747b5d6-d1af-4048-ac64-498d13f0231f"
      },
      "execution_count": 35,
      "outputs": [
        {
          "output_type": "stream",
          "name": "stdout",
          "text": [
            "Epoch 1/100\n",
            "1250/1250 [==============================] - 8s 6ms/step - loss: 0.6319 - accuracy: 0.7702 - val_loss: 0.4541 - val_accuracy: 0.8371\n",
            "Epoch 2/100\n",
            "1250/1250 [==============================] - 8s 6ms/step - loss: 0.4066 - accuracy: 0.8531 - val_loss: 0.3829 - val_accuracy: 0.8609\n",
            "Epoch 3/100\n",
            "1250/1250 [==============================] - 8s 7ms/step - loss: 0.3488 - accuracy: 0.8732 - val_loss: 0.3555 - val_accuracy: 0.8697\n",
            "Epoch 4/100\n",
            "1250/1250 [==============================] - 7s 6ms/step - loss: 0.3138 - accuracy: 0.8848 - val_loss: 0.3211 - val_accuracy: 0.8824\n",
            "Epoch 5/100\n",
            "1250/1250 [==============================] - 8s 7ms/step - loss: 0.2875 - accuracy: 0.8964 - val_loss: 0.2881 - val_accuracy: 0.8944\n",
            "Epoch 6/100\n",
            "1250/1250 [==============================] - 8s 7ms/step - loss: 0.2657 - accuracy: 0.9027 - val_loss: 0.3009 - val_accuracy: 0.8900\n",
            "Epoch 7/100\n",
            "1250/1250 [==============================] - 8s 7ms/step - loss: 0.2496 - accuracy: 0.9089 - val_loss: 0.2772 - val_accuracy: 0.9007\n",
            "Epoch 8/100\n",
            "1250/1250 [==============================] - 8s 7ms/step - loss: 0.2336 - accuracy: 0.9136 - val_loss: 0.2788 - val_accuracy: 0.9000\n",
            "Epoch 9/100\n",
            "1250/1250 [==============================] - 8s 7ms/step - loss: 0.2207 - accuracy: 0.9172 - val_loss: 0.2617 - val_accuracy: 0.9064\n",
            "Epoch 10/100\n",
            "1250/1250 [==============================] - 7s 6ms/step - loss: 0.2052 - accuracy: 0.9247 - val_loss: 0.2818 - val_accuracy: 0.8975\n",
            "Epoch 11/100\n",
            "1250/1250 [==============================] - 7s 6ms/step - loss: 0.1941 - accuracy: 0.9291 - val_loss: 0.2588 - val_accuracy: 0.9067\n",
            "Epoch 12/100\n",
            "1250/1250 [==============================] - 7s 6ms/step - loss: 0.1821 - accuracy: 0.9330 - val_loss: 0.2573 - val_accuracy: 0.9107\n",
            "Epoch 13/100\n",
            "1250/1250 [==============================] - 7s 6ms/step - loss: 0.1715 - accuracy: 0.9372 - val_loss: 0.2580 - val_accuracy: 0.9121\n",
            "Epoch 14/100\n",
            "1250/1250 [==============================] - 8s 6ms/step - loss: 0.1622 - accuracy: 0.9406 - val_loss: 0.2642 - val_accuracy: 0.9074\n",
            "Epoch 15/100\n",
            "1250/1250 [==============================] - 9s 7ms/step - loss: 0.1530 - accuracy: 0.9446 - val_loss: 0.2792 - val_accuracy: 0.9080\n",
            "313/313 [==============================] - 1s 4ms/step - loss: 0.2962 - accuracy: 0.9046\n",
            "Eval : (0.2961955666542053, 0.9046000242233276)\n"
          ]
        }
      ]
    },
    {
      "cell_type": "markdown",
      "source": [
        "This have same results as Model_v1 and Model_v2 but this is much smaller."
      ],
      "metadata": {
        "id": "TXmPOvAaC2Ai"
      }
    },
    {
      "cell_type": "markdown",
      "source": [
        "##$Model_v5$"
      ],
      "metadata": {
        "id": "zm9G2go5DLdV"
      }
    },
    {
      "cell_type": "code",
      "source": [
        "Model_v5 = keras.Sequential([\n",
        "                             layers.Conv2D(64,5,2,padding=\"same\",activation=\"relu\",kernel_initializer=\"he_normal\",input_shape=(28,28,1)),\n",
        "                             layers.MaxPool2D(),\n",
        "                             layers.Conv2D(128,3,1,padding=\"same\",activation=\"relu\",kernel_initializer=\"he_normal\"),\n",
        "                             layers.GlobalAveragePooling2D(),\n",
        "                             layers.Flatten(),\n",
        "                             layers.Dense(10,activation=\"softmax\",kernel_initializer=\"glorot_uniform\"),\n",
        "])\n",
        "Model_v5.compile(\n",
        "    loss=keras.losses.sparse_categorical_crossentropy,\n",
        "    optimizer=\"adam\",\n",
        "    metrics=[\"accuracy\"]\n",
        ")\n",
        "Model_v5.fit(\n",
        "    X_train,Y_train,\n",
        "    validation_data=(X_valid,Y_valid),\n",
        "    epochs=100,\n",
        "    callbacks=[keras.callbacks.EarlyStopping(patience=3)]\n",
        ")\n",
        "Model_v5_stats = Model_v5.evaluate(X_test,Y_test_FMnist)\n",
        "print(f\"Eval : {Model_v5_stats[0],Model_v5_stats[1]}\")"
      ],
      "metadata": {
        "colab": {
          "base_uri": "https://localhost:8080/"
        },
        "id": "X1IIO4ReCQ8l",
        "outputId": "218140b8-585b-4a03-eb5f-6ed8c17ed4d9"
      },
      "execution_count": 36,
      "outputs": [
        {
          "output_type": "stream",
          "name": "stdout",
          "text": [
            "1250/1250 [==============================] - 9s 7ms/step - loss: 0.3216 - accuracy: 0.8845 - val_loss: 0.3434 - val_accuracy: 0.8760\n",
            "Epoch 12/100\n",
            "1250/1250 [==============================] - 9s 7ms/step - loss: 0.3090 - accuracy: 0.8880 - val_loss: 0.3110 - val_accuracy: 0.8891\n",
            "Epoch 13/100\n",
            "1250/1250 [==============================] - 9s 7ms/step - loss: 0.3009 - accuracy: 0.8906 - val_loss: 0.3117 - val_accuracy: 0.8879\n",
            "Epoch 14/100\n",
            "1250/1250 [==============================] - 8s 6ms/step - loss: 0.2961 - accuracy: 0.8930 - val_loss: 0.3316 - val_accuracy: 0.8822\n",
            "Epoch 15/100\n",
            "1250/1250 [==============================] - 7s 6ms/step - loss: 0.2829 - accuracy: 0.8971 - val_loss: 0.3176 - val_accuracy: 0.8895\n",
            "313/313 [==============================] - 1s 4ms/step - loss: 0.3403 - accuracy: 0.8805\n",
            "Eval : (0.34027916193008423, 0.8805000185966492)\n"
          ]
        }
      ]
    },
    {
      "cell_type": "markdown",
      "source": [
        "Bad than the BaseLine"
      ],
      "metadata": {
        "id": "KYaHDWvPDxbE"
      }
    },
    {
      "cell_type": "markdown",
      "source": [
        "##$Model_v6$"
      ],
      "metadata": {
        "id": "bpxSbIwAD0W0"
      }
    },
    {
      "cell_type": "code",
      "source": [
        "Model_v6 = keras.Sequential([\n",
        "                             layers.Conv2D(64,5,2,padding=\"same\",activation=\"relu\",kernel_initializer=\"he_normal\",input_shape=(28,28,1)),\n",
        "                             layers.MaxPool2D(),\n",
        "                             layers.Conv2D(64,3,1,padding=\"valid\",activation=\"relu\",kernel_initializer=\"he_normal\"),\n",
        "                             layers.Conv2D(128,3,1,padding=\"valid\",activation=\"relu\",kernel_initializer=\"he_normal\"),\n",
        "                             layers.GlobalAveragePooling2D(),\n",
        "                             layers.Flatten(),\n",
        "                             layers.BatchNormalization(),\n",
        "                             layers.Dense(10,activation=\"softmax\",kernel_initializer=\"glorot_uniform\"),\n",
        "])\n",
        "Model_v6.compile(\n",
        "    loss=keras.losses.sparse_categorical_crossentropy,\n",
        "    optimizer=\"adam\",\n",
        "    metrics=[\"accuracy\"]\n",
        ")\n",
        "Model_v6.fit(\n",
        "    X_train,Y_train,\n",
        "    validation_data=(X_valid,Y_valid),\n",
        "    epochs=100,\n",
        "    callbacks=[keras.callbacks.EarlyStopping(patience=3)]\n",
        ")\n",
        "Model_v6_stats = Model_v6.evaluate(X_test,Y_test_FMnist)\n",
        "print(f\"Eval : {Model_v6_stats[0],Model_v6_stats[1]}\")"
      ],
      "metadata": {
        "colab": {
          "base_uri": "https://localhost:8080/"
        },
        "id": "YAN2b32ZDK7V",
        "outputId": "64ca02e8-951d-4da4-a0b1-9e1fb8767d61"
      },
      "execution_count": 37,
      "outputs": [
        {
          "output_type": "stream",
          "name": "stdout",
          "text": [
            "Epoch 1/100\n",
            "1250/1250 [==============================] - 11s 8ms/step - loss: 0.5114 - accuracy: 0.8132 - val_loss: 0.5065 - val_accuracy: 0.8192\n",
            "Epoch 2/100\n",
            "1250/1250 [==============================] - 9s 7ms/step - loss: 0.3486 - accuracy: 0.8734 - val_loss: 0.3618 - val_accuracy: 0.8745\n",
            "Epoch 3/100\n",
            "1250/1250 [==============================] - 9s 7ms/step - loss: 0.2964 - accuracy: 0.8895 - val_loss: 0.3994 - val_accuracy: 0.8537\n",
            "Epoch 4/100\n",
            "1250/1250 [==============================] - 9s 7ms/step - loss: 0.2697 - accuracy: 0.9025 - val_loss: 0.2829 - val_accuracy: 0.8967\n",
            "Epoch 5/100\n",
            "1250/1250 [==============================] - 10s 8ms/step - loss: 0.2431 - accuracy: 0.9099 - val_loss: 0.3252 - val_accuracy: 0.8890\n",
            "Epoch 6/100\n",
            "1250/1250 [==============================] - 9s 7ms/step - loss: 0.2217 - accuracy: 0.9187 - val_loss: 0.3015 - val_accuracy: 0.8956\n",
            "Epoch 7/100\n",
            "1250/1250 [==============================] - 10s 8ms/step - loss: 0.2041 - accuracy: 0.9250 - val_loss: 0.2943 - val_accuracy: 0.9000\n",
            "313/313 [==============================] - 2s 5ms/step - loss: 0.3105 - accuracy: 0.8945\n",
            "Eval : (0.3104722499847412, 0.8945000171661377)\n"
          ]
        }
      ]
    },
    {
      "cell_type": "markdown",
      "source": [
        "This is bad"
      ],
      "metadata": {
        "id": "Lf1nuf4lEa5J"
      }
    },
    {
      "cell_type": "markdown",
      "source": [
        "#$Comparision$\n",
        "---\n",
        "`Choosing Final Model`\n",
        "\n",
        "---"
      ],
      "metadata": {
        "id": "FLQ2fW9LEuES"
      }
    },
    {
      "cell_type": "code",
      "source": [
        "Loss_stats = [Model_v1_stats[0],Model_v2_stats[0], Model_v3_stats[0], Model_v4_stats[0], Model_v5_stats[0], Model_v6_stats[0]]"
      ],
      "metadata": {
        "id": "a0RBudCqEwcy"
      },
      "execution_count": 39,
      "outputs": []
    },
    {
      "cell_type": "code",
      "source": [
        "Acc_stats = [Model_v1_stats[1],Model_v2_stats[1], Model_v3_stats[1], Model_v4_stats[1], Model_v5_stats[1], Model_v6_stats[1]]"
      ],
      "metadata": {
        "id": "HGgNvxwME3QR"
      },
      "execution_count": 40,
      "outputs": []
    },
    {
      "cell_type": "code",
      "source": [
        "x_axis = [1,2,3,4,5,6]\n",
        "idx = Loss_stats.index(min(Loss_stats)) + 1\n",
        "plt.bar(x_axis,Loss_stats)\n",
        "plt.bar(idx,min(Loss_stats),color=\"r\")\n",
        "plt.xlabel(\"Models\")\n",
        "plt.ylabel(\"Loss\")\n",
        "plt.show()"
      ],
      "metadata": {
        "colab": {
          "base_uri": "https://localhost:8080/",
          "height": 279
        },
        "id": "ERf-Rq18FNrS",
        "outputId": "bf555a83-ea8b-463e-f274-9b5466324035"
      },
      "execution_count": 50,
      "outputs": [
        {
          "output_type": "display_data",
          "data": {
            "image/png": "[encoded data removed]",
            "text/plain": [
              "<Figure size 432x288 with 1 Axes>"
            ]
          },
          "metadata": {
            "needs_background": "light"
          }
        }
      ]
    },
    {
      "cell_type": "code",
      "source": [
        "x_axis = [1,2,3,4,5,6]\n",
        "idx = Acc_stats.index(max(Acc_stats)) + 1\n",
        "plt.bar(x_axis,Acc_stats)\n",
        "plt.bar(idx,max(Acc_stats),color=\"r\")\n",
        "plt.xlabel(\"Models\")\n",
        "plt.ylabel(\"Accuracy\")\n",
        "plt.show()"
      ],
      "metadata": {
        "colab": {
          "base_uri": "https://localhost:8080/",
          "height": 279
        },
        "id": "GkCis6TBFRat",
        "outputId": "7f4ea12e-af0f-4c7b-95c6-a5ad4190726f"
      },
      "execution_count": 52,
      "outputs": [
        {
          "output_type": "display_data",
          "data": {
            "image/png": "[encoded data removed]",
            "text/plain": [
              "<Figure size 432x288 with 1 Axes>"
            ]
          },
          "metadata": {
            "needs_background": "light"
          }
        }
      ]
    },
    {
      "cell_type": "code",
      "source": [
        "plt.figure(figsize=(8,5))\n",
        "plt.subplot(211)\n",
        "x_axis = [1,2,3,4,5,6]\n",
        "idx = Loss_stats.index(min(Loss_stats)) + 1\n",
        "plt.bar(x_axis,Loss_stats)\n",
        "plt.bar(idx,min(Loss_stats),color=\"r\")\n",
        "plt.ylabel(\"Loss\")\n",
        "plt.subplot(212)\n",
        "x_axis = [1,2,3,4,5,6]\n",
        "idx = Acc_stats.index(max(Acc_stats)) + 1\n",
        "plt.bar(x_axis,Acc_stats)\n",
        "plt.bar(idx,max(Acc_stats),color=\"r\")\n",
        "plt.xlabel(\"Models\")\n",
        "plt.ylabel(\"Accuracy\")\n",
        "plt.show()"
      ],
      "metadata": {
        "colab": {
          "base_uri": "https://localhost:8080/",
          "height": 334
        },
        "id": "vIEC4H4VIowe",
        "outputId": "8a260bf4-a9ad-4b4a-b584-1d56e15bbcb2"
      },
      "execution_count": 68,
      "outputs": [
        {
          "output_type": "display_data",
          "data": {
            "image/png": "[encoded data removed]",
            "text/plain": [
              "<Figure size 576x360 with 2 Axes>"
            ]
          },
          "metadata": {
            "needs_background": "light"
          }
        }
      ]
    },
    {
      "cell_type": "markdown",
      "source": [
        "From this we can conclude that Model_v4 is the most robust/best model for Fashion Mnist."
      ],
      "metadata": {
        "id": "qM8RDUSxKJkA"
      }
    },
    {
      "cell_type": "markdown",
      "source": [
        "#$Predicting$\n",
        "---\n",
        "`Using the best model so far to predict the classes`\n",
        "\n",
        "---"
      ],
      "metadata": {
        "id": "yhlvVxpOLCd4"
      }
    },
    {
      "cell_type": "code",
      "source": [
        "def predictions(id):\n",
        "  y_pred = np.argmax(Model_v4.predict(np.array(X_test[id]).reshape(1,28,28)))\n",
        "  y_target = Y_test_FMnist[id]\n",
        "  return y_pred, y_target"
      ],
      "metadata": {
        "id": "MehCCZrwLMHu"
      },
      "execution_count": 71,
      "outputs": []
    },
    {
      "cell_type": "code",
      "source": [
        "predictions(5) # Predicted value and Original Value"
      ],
      "metadata": {
        "colab": {
          "base_uri": "https://localhost:8080/"
        },
        "id": "wPN3LVtqLWjr",
        "outputId": "0dc68f30-3298-4628-8115-ea3a1f1dbcdb"
      },
      "execution_count": 72,
      "outputs": [
        {
          "output_type": "execute_result",
          "data": {
            "text/plain": [
              "(1, 1)"
            ]
          },
          "metadata": {},
          "execution_count": 72
        }
      ]
    },
    {
      "cell_type": "code",
      "source": [
        "for i in range(45,78):\n",
        "  y_pred, original = predictions(i)\n",
        "  print(f\"Index : {i}\")\n",
        "  print(f\"Predicted : {y_pred} Original : {original}\")\n",
        "  if y_pred != original:\n",
        "    print(f\"Wrong Prediction, Index : {i}\")"
      ],
      "metadata": {
        "colab": {
          "base_uri": "https://localhost:8080/"
        },
        "id": "QedrPMnMLpVL",
        "outputId": "95f59c94-380e-41f3-ac5e-281c1d60f7ae"
      },
      "execution_count": 78,
      "outputs": [
        {
          "output_type": "stream",
          "name": "stdout",
          "text": [
            "Index : 45\n",
            "Predicted : 7 Original : 7\n",
            "Index : 46\n",
            "Predicted : 2 Original : 2\n",
            "Index : 47\n",
            "Predicted : 1 Original : 1\n",
            "Index : 48\n",
            "Predicted : 2 Original : 2\n",
            "Index : 49\n",
            "Predicted : 6 Original : 2\n",
            "Wrong Prediction, Index : 49\n",
            "Index : 50\n",
            "Predicted : 4 Original : 4\n",
            "Index : 51\n",
            "Predicted : 4 Original : 4\n",
            "Index : 52\n",
            "Predicted : 5 Original : 5\n",
            "Index : 53\n",
            "Predicted : 8 Original : 8\n",
            "Index : 54\n",
            "Predicted : 2 Original : 2\n",
            "Index : 55\n",
            "Predicted : 2 Original : 2\n",
            "Index : 56\n",
            "Predicted : 8 Original : 8\n",
            "Index : 57\n",
            "Predicted : 4 Original : 4\n",
            "Index : 58\n",
            "Predicted : 8 Original : 8\n",
            "Index : 59\n",
            "Predicted : 0 Original : 0\n",
            "Index : 60\n",
            "Predicted : 7 Original : 7\n",
            "Index : 61\n",
            "Predicted : 7 Original : 7\n",
            "Index : 62\n",
            "Predicted : 8 Original : 8\n",
            "Index : 63\n",
            "Predicted : 5 Original : 5\n",
            "Index : 64\n",
            "Predicted : 1 Original : 1\n",
            "Index : 65\n",
            "Predicted : 1 Original : 1\n",
            "Index : 66\n",
            "Predicted : 3 Original : 2\n",
            "Wrong Prediction, Index : 66\n",
            "Index : 67\n",
            "Predicted : 3 Original : 3\n",
            "Index : 68\n",
            "Predicted : 7 Original : 9\n",
            "Wrong Prediction, Index : 68\n",
            "Index : 69\n",
            "Predicted : 8 Original : 8\n",
            "Index : 70\n",
            "Predicted : 7 Original : 7\n",
            "Index : 71\n",
            "Predicted : 0 Original : 0\n",
            "Index : 72\n",
            "Predicted : 2 Original : 2\n",
            "Index : 73\n",
            "Predicted : 6 Original : 6\n",
            "Index : 74\n",
            "Predicted : 2 Original : 2\n",
            "Index : 75\n",
            "Predicted : 3 Original : 3\n",
            "Index : 76\n",
            "Predicted : 1 Original : 1\n",
            "Index : 77\n",
            "Predicted : 2 Original : 2\n"
          ]
        }
      ]
    },
    {
      "cell_type": "markdown",
      "source": [
        "49, 66 and 68 index were wrong predictions, lets look at them."
      ],
      "metadata": {
        "id": "G5925MxsMSG_"
      }
    },
    {
      "cell_type": "code",
      "source": [
        "wrong_idx = [49,66,68]\n",
        "for i in wrong_idx:\n",
        "  plot_img(i,[X_test,Y_test_FMnist])"
      ],
      "metadata": {
        "colab": {
          "base_uri": "https://localhost:8080/",
          "height": 809
        },
        "id": "Cuf-aJHxLw1b",
        "outputId": "85684808-1474-4ad5-9696-5bed0a7d05c5"
      },
      "execution_count": 80,
      "outputs": [
        {
          "output_type": "display_data",
          "data": {
            "image/png": "[encoded data removed]",
            "text/plain": [
              "<Figure size 432x288 with 1 Axes>"
            ]
          },
          "metadata": {
            "needs_background": "light"
          }
        },
        {
          "output_type": "display_data",
          "data": {
            "image/png": "[encoded data removed]",
            "text/plain": [
              "<Figure size 432x288 with 1 Axes>"
            ]
          },
          "metadata": {
            "needs_background": "light"
          }
        },
        {
          "output_type": "display_data",
          "data": {
            "image/png": "[encoded data removed]",
            "text/plain": [
              "<Figure size 432x288 with 1 Axes>"
            ]
          },
          "metadata": {
            "needs_background": "light"
          }
        }
      ]
    },
    {
      "cell_type": "markdown",
      "source": [
        "I guess model was not able to grasp patterns for the class \"Pullovers\""
      ],
      "metadata": {
        "id": "tRWzEeWKM7M6"
      }
    },
    {
      "cell_type": "code",
      "source": [
        "def Model_predictions(start,end,plot):\n",
        "  wrong_idx = []\n",
        "  for i in range(start,end):\n",
        "    y_pred, original = predictions(i)\n",
        "    if y_pred != original:\n",
        "      print(f\"Wrong Prediction!!! Index : {i} \\n Predicted : {class_names[y_pred]} & Original = {class_names[original]} \")\n",
        "      wrong_idx.append(i)\n",
        "  if plot:\n",
        "    for i in wrong_idx:\n",
        "      plot_img(i,[X_test,Y_test_FMnist])"
      ],
      "metadata": {
        "id": "jFT-6dDVMilq"
      },
      "execution_count": 92,
      "outputs": []
    },
    {
      "cell_type": "code",
      "source": [
        "Model_predictions(102,150,False)"
      ],
      "metadata": {
        "colab": {
          "base_uri": "https://localhost:8080/"
        },
        "id": "p3FK7YwkNYaR",
        "outputId": "160c9c3c-f0e3-4587-d72a-3cedec3f1928"
      },
      "execution_count": 94,
      "outputs": [
        {
          "output_type": "stream",
          "name": "stdout",
          "text": [
            "Wrong Prediction!!! Index : 103 \n",
            " Predicted : Shirt & Original = Pullover \n",
            "Wrong Prediction!!! Index : 107 \n",
            " Predicted : Sneaker & Original = Ankle boot \n",
            "Wrong Prediction!!! Index : 136 \n",
            " Predicted : Shirt & Original = Pullover \n",
            "Wrong Prediction!!! Index : 147 \n",
            " Predicted : Dress & Original = Shirt \n"
          ]
        }
      ]
    },
    {
      "cell_type": "markdown",
      "source": [
        "Yeah, my assumption was true. The Model is not able to learn patterns for the pullover class."
      ],
      "metadata": {
        "id": "K6oIeHJaNlkD"
      }
    },
    {
      "cell_type": "code",
      "source": [
        "Model_predictions(865,912,True)"
      ],
      "metadata": {
        "colab": {
          "base_uri": "https://localhost:8080/",
          "height": 1000
        },
        "id": "9wmwBNRaNvE5",
        "outputId": "ba7e5745-0280-4616-cc3f-d2990d56e229"
      },
      "execution_count": 95,
      "outputs": [
        {
          "output_type": "stream",
          "name": "stdout",
          "text": [
            "Wrong Prediction!!! Index : 870 \n",
            " Predicted : Shirt & Original = Pullover \n",
            "Wrong Prediction!!! Index : 881 \n",
            " Predicted : Bag & Original = T_shirt \n",
            "Wrong Prediction!!! Index : 893 \n",
            " Predicted : Coat & Original = Pullover \n",
            "Wrong Prediction!!! Index : 902 \n",
            " Predicted : Ankle boot & Original = Sandal \n",
            "Wrong Prediction!!! Index : 905 \n",
            " Predicted : Shirt & Original = Coat \n",
            "Wrong Prediction!!! Index : 909 \n",
            " Predicted : Pullover & Original = Shirt \n"
          ]
        },
        {
          "output_type": "display_data",
          "data": {
            "image/png": "[encoded data removed]",
            "text/plain": [
              "<Figure size 432x288 with 1 Axes>"
            ]
          },
          "metadata": {
            "needs_background": "light"
          }
        },
        {
          "output_type": "display_data",
          "data": {
            "image/png": "[encoded data removed]",
            "text/plain": [
              "<Figure size 432x288 with 1 Axes>"
            ]
          },
          "metadata": {
            "needs_background": "light"
          }
        },
        {
          "output_type": "display_data",
          "data": {
            "image/png": "[encoded data removed]",
            "text/plain": [
              "<Figure size 432x288 with 1 Axes>"
            ]
          },
          "metadata": {
            "needs_background": "light"
          }
        },
        {
          "output_type": "display_data",
          "data": {
            "image/png": "[encoded data removed]",
            "text/plain": [
              "<Figure size 432x288 with 1 Axes>"
            ]
          },
          "metadata": {
            "needs_background": "light"
          }
        },
        {
          "output_type": "display_data",
          "data": {
            "image/png": "[encoded data removed]",
            "text/plain": [
              "<Figure size 432x288 with 1 Axes>"
            ]
          },
          "metadata": {
            "needs_background": "light"
          }
        },
        {
          "output_type": "display_data",
          "data": {
            "image/png": "[encoded data removed]",
            "text/plain": [
              "<Figure size 432x288 with 1 Axes>"
            ]
          },
          "metadata": {
            "needs_background": "light"
          }
        }
      ]
    },
    {
      "cell_type": "code",
      "source": [
        ""
      ],
      "metadata": {
        "id": "r52xwl-fNxXZ"
      },
      "execution_count": 87,
      "outputs": []
    },
    {
      "cell_type": "markdown",
      "source": [
        "#$Decision$ $Params$\n",
        "---\n",
        "`Using more methods to compare the model like precision and recall`\n",
        "\n",
        "---"
      ],
      "metadata": {
        "id": "8ef4FmH6O2c-"
      }
    },
    {
      "cell_type": "code",
      "source": [
        "from sklearn.metrics import f1_score, confusion_matrix, precision_score, recall_score"
      ],
      "metadata": {
        "id": "bognp_QgO--Q"
      },
      "execution_count": 174,
      "outputs": []
    },
    {
      "cell_type": "code",
      "source": [
        "Models = [Model_v1,Model_v2,Model_v3,Model_v4,Model_v5,Model_v6]"
      ],
      "metadata": {
        "id": "Ig2i3iZdQMjg"
      },
      "execution_count": 133,
      "outputs": []
    },
    {
      "cell_type": "code",
      "source": [
        "Y_pred = []\n",
        "for i in range(6):\n",
        "  Y_pred.append(np.argmax(Models[i].predict(X_test),axis=1))"
      ],
      "metadata": {
        "id": "-eIIE9J0QjfA"
      },
      "execution_count": 134,
      "outputs": []
    },
    {
      "cell_type": "code",
      "source": [
        "Precisions = []\n",
        "for y_pred in Y_pred:\n",
        "  Precisions.append(precision_score(Y_test_FMnist,y_pred,average='macro'))\n",
        "\n",
        "Recall = []\n",
        "for y_pred in Y_pred:\n",
        "  Recall.append(recall_score(Y_test_FMnist,y_pred,average='macro'))\n",
        "\n",
        "CM = []\n",
        "for y_pred in Y_pred:\n",
        "  CM.append(confusion_matrix(Y_test_FMnist,y_pred))\n",
        "\n",
        "F1 = []\n",
        "for y_pred in Y_pred:\n",
        "  F1.append(f1_score(Y_test_FMnist,y_pred,average='macro'))"
      ],
      "metadata": {
        "id": "TGsrkNwnRm7e"
      },
      "execution_count": 135,
      "outputs": []
    },
    {
      "cell_type": "code",
      "source": [
        "x_axis = [1,2,3,4,5,6]\n",
        "f, (ax1,ax2,ax3) = plt.subplots(1,3,sharex=True,sharey=True,)\n",
        "\n",
        "ax1.bar(x_axis,Precisions)\n",
        "idx = Precisions.index(max(Precisions)) +1\n",
        "ax1.bar(idx,max(Precisions))\n",
        "ax1.set_title(\"Precision\")\n",
        "\n",
        "ax2.bar(x_axis,Recall)\n",
        "idx = Recall.index(max(Recall)) +1\n",
        "ax2.bar(idx,max(Recall))\n",
        "ax2.set_title(\"Recall\")\n",
        "\n",
        "ax3.bar(x_axis,F1)\n",
        "idx = F1.index(max(F1)) +1\n",
        "ax3.bar(idx,max(F1))\n",
        "ax3.set_title(\"F1\")\n",
        "\n",
        "f.set_figheight(5)\n",
        "f.set_figwidth(8)"
      ],
      "metadata": {
        "colab": {
          "base_uri": "https://localhost:8080/",
          "height": 336
        },
        "id": "NFksYt7CVBZF",
        "outputId": "90ac3246-00f5-4227-c6d8-b23c400b893f"
      },
      "execution_count": 155,
      "outputs": [
        {
          "output_type": "display_data",
          "data": {
            "image/png": "[encoded data removed]",
            "text/plain": [
              "<Figure size 576x360 with 3 Axes>"
            ]
          },
          "metadata": {
            "needs_background": "light"
          }
        }
      ]
    },
    {
      "cell_type": "markdown",
      "source": [
        "According to this Model 2 is better than Model 4. Lets find out."
      ],
      "metadata": {
        "id": "FrINGGs1eQ2B"
      }
    },
    {
      "cell_type": "code",
      "source": [
        "# for i in range(6):\n",
        "#   print(f\"Model-{i+1}\")\n",
        "#   print(f\"CM : {CM[i]}\")\n",
        "\n",
        "# # Only Run if yoy wanna look at them|."
      ],
      "metadata": {
        "id": "aT6tMjPLeaf1"
      },
      "execution_count": 176,
      "outputs": []
    },
    {
      "cell_type": "code",
      "source": [
        "def predictions_v2(id):\n",
        "  y_pred = np.argmax(Model_v2.predict(np.array(X_test[id]).reshape(1,28,28)))\n",
        "  y_target = Y_test_FMnist[id]\n",
        "  return y_pred, y_target\n",
        "def Model_predictions_v2(start,end):\n",
        "  wrong_counter = 0\n",
        "  for i in range(start,end):\n",
        "    y_pred, original = predictions_v2(i)\n",
        "    if y_pred != original:\n",
        "      wrong_counter+=1\n",
        "  return wrong_counter\n",
        "\n",
        "def predictions_v4(id):\n",
        "  y_pred = np.argmax(Model_v4.predict(np.array(X_test[id]).reshape(1,28,28)))\n",
        "  y_target = Y_test_FMnist[id]\n",
        "  return y_pred, y_target\n",
        "def Model_predictions_v4(start,end):\n",
        "  wrong_counter = 0\n",
        "  for i in range(start,end):\n",
        "    y_pred, original = predictions_v4(i)\n",
        "    if y_pred != original:\n",
        "      wrong_counter+=1\n",
        "  return wrong_counter\n"
      ],
      "metadata": {
        "id": "L6Dp3o8oer9O"
      },
      "execution_count": 164,
      "outputs": []
    },
    {
      "cell_type": "markdown",
      "source": [
        "The idea is simple, with a step size of 10. We will check that in 10 steps which model made wrong predictions greater than the other. "
      ],
      "metadata": {
        "id": "E_6qDN41fGVj"
      }
    },
    {
      "cell_type": "code",
      "source": [
        "V2_wrongs = []\n",
        "V4_wrongs = []\n",
        "k = 100\n",
        "for i in range(10):\n",
        "  for j in range(1):\n",
        "    n_wrong_v2 = Model_predictions_v2(k,k+100)\n",
        "    n_wrong_v4 = Model_predictions_v4(k,k+100)\n",
        "    V2_wrongs.append(n_wrong_v2)\n",
        "    V4_wrongs.append(n_wrong_v4)\n",
        "    print(f\"K : {k,k+100} Wrong V2 : {n_wrong_v2} & Wrong v4 : {n_wrong_v4} \")\n",
        "    k+=100\n",
        "print(f\"V2 Errors : {sum(V2_wrongs)}\")\n",
        "print(f\"V4 Errors : {sum(V4_wrongs)}\")"
      ],
      "metadata": {
        "colab": {
          "base_uri": "https://localhost:8080/"
        },
        "id": "bQoVJnwlg5qb",
        "outputId": "911117ce-6cea-445f-926d-e6cba97a3b06"
      },
      "execution_count": 179,
      "outputs": [
        {
          "output_type": "stream",
          "name": "stdout",
          "text": [
            "K : (100, 200) Wrong V2 : 7 & Wrong v4 : 7 \n",
            "K : (200, 300) Wrong V2 : 7 & Wrong v4 : 7 \n",
            "K : (300, 400) Wrong V2 : 12 & Wrong v4 : 9 \n",
            "K : (400, 500) Wrong V2 : 9 & Wrong v4 : 11 \n",
            "K : (500, 600) Wrong V2 : 10 & Wrong v4 : 10 \n",
            "K : (600, 700) Wrong V2 : 8 & Wrong v4 : 9 \n",
            "K : (700, 800) Wrong V2 : 9 & Wrong v4 : 7 \n",
            "K : (800, 900) Wrong V2 : 7 & Wrong v4 : 7 \n",
            "K : (900, 1000) Wrong V2 : 15 & Wrong v4 : 16 \n",
            "K : (1000, 1100) Wrong V2 : 4 & Wrong v4 : 8 \n",
            "V2 Errors : 88\n",
            "V4 Errors : 91\n"
          ]
        }
      ]
    },
    {
      "cell_type": "markdown",
      "source": [
        "You can check it for different steps or for different range. In general, that's true Model V2 is better than Model V4."
      ],
      "metadata": {
        "id": "2_okFCTkiQTv"
      }
    },
    {
      "cell_type": "code",
      "source": [
        "print(f\"V2 Acc : {Model_v2_stats[1]}\")\n",
        "print(f\"V4 Acc : {Model_v4_stats[1]}\")"
      ],
      "metadata": {
        "colab": {
          "base_uri": "https://localhost:8080/"
        },
        "id": "zeUwrXbghZla",
        "outputId": "253e872d-70e0-4f9d-a820-2eafd25caaac"
      },
      "execution_count": 173,
      "outputs": [
        {
          "output_type": "stream",
          "name": "stdout",
          "text": [
            "V2 Acc : 0.9053000211715698\n",
            "V4 Acc : 0.9046000242233276\n"
          ]
        }
      ]
    },
    {
      "cell_type": "markdown",
      "source": [
        "Earlier we choosed Model V4 as the best because it seems robust, but now we can clearly see that V2 is much better than V4 when it comes to long term results."
      ],
      "metadata": {
        "id": "ERRl2J5Jisic"
      }
    }
  ]
}