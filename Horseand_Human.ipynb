{
  "cells": [
    {
      "cell_type": "markdown",
      "metadata": {
        "id": "-BnfxEcMhWA4"
      },
      "source": [
        "#$Imports$"
      ]
    },
    {
      "cell_type": "code",
      "execution_count": null,
      "metadata": {
        "id": "FIG7Ag6cO3tt"
      },
      "outputs": [],
      "source": [
        "import os\n",
        "import cv2 as cv\n",
        "import tensorflow as tf\n",
        "from tensorflow import keras\n",
        "from tensorflow.keras.layers import *\n",
        "from tensorflow.keras.preprocessing.image import ImageDataGenerator\n",
        "import matplotlib.pyplot as plt\n",
        "import numpy as np\n",
        "from tensorflow.keras.callbacks import EarlyStopping, TensorBoard"
      ]
    },
    {
      "cell_type": "markdown",
      "metadata": {
        "id": "dArhGWMzhXyA"
      },
      "source": [
        "#$Loading$ $Data$"
      ]
    },
    {
      "cell_type": "code",
      "execution_count": null,
      "metadata": {
        "id": "GzTMVy6dslEm"
      },
      "outputs": [],
      "source": [
        "train_images = []\n",
        "file_path = [\"train/horses\",\"train/humans\"]\n",
        "for path in file_path:\n",
        "  for img in os.listdir(path):\n",
        "    pic = cv.imread(os.path.join(path,img))\n",
        "    pic = cv.resize(pic,(64,64),cv.BORDER_DEFAULT)\n",
        "    pic = cv.cvtColor(pic,cv.COLOR_BGR2RGB)\n",
        "    train_images.append(pic)"
      ]
    },
    {
      "cell_type": "code",
      "execution_count": null,
      "metadata": {
        "colab": {
          "base_uri": "https://localhost:8080/"
        },
        "id": "X5I3dbzFqlkq",
        "outputId": "3276269f-c1f3-46dd-fda3-c3ffe2d685b1"
      },
      "outputs": [
        {
          "output_type": "stream",
          "name": "stdout",
          "text": [
            "Found 126 images belonging to 3 classes.\n"
          ]
        }
      ],
      "source": [
        "train_datagen = ImageDataGenerator(rescale = 1./255, #get all pixel values to 0-1, CNN converg faster on [0..1] data than on [0..255]\n",
        "                                   shear_range = 0.2,\n",
        "                                   zoom_range = 0.2,\n",
        "                                   horizontal_flip = True)\n",
        "training_set = train_datagen.flow_from_directory(\"train\",\n",
        "                                                 target_size = (64, 64),\n",
        "                                                 batch_size = 32,\n",
        "                                                 class_mode = 'binary')"
      ]
    },
    {
      "cell_type": "code",
      "execution_count": null,
      "metadata": {
        "colab": {
          "base_uri": "https://localhost:8080/"
        },
        "id": "yHLZm6NArYAV",
        "outputId": "95ae5c67-4d83-45a2-c0a7-ef9952f21b02"
      },
      "outputs": [
        {
          "output_type": "stream",
          "name": "stdout",
          "text": [
            "Found 202 images belonging to 3 classes.\n"
          ]
        }
      ],
      "source": [
        "test_datagen = ImageDataGenerator(rescale = 1./255)\n",
        "test_set = test_datagen.flow_from_directory('validation',\n",
        "                                            target_size = (64, 64),\n",
        "                                            batch_size = 32,\n",
        "                                            class_mode = 'binary')"
      ]
    },
    {
      "cell_type": "code",
      "execution_count": null,
      "metadata": {
        "id": "cQbaFjZ-WMkB"
      },
      "outputs": [],
      "source": [
        "class_names = [\"Horse\",\"Human\"]"
      ]
    },
    {
      "cell_type": "code",
      "execution_count": null,
      "metadata": {
        "id": "yCnUhBKDTU5S"
      },
      "outputs": [],
      "source": [
        "def ShowImage(id,X_data):\n",
        "  plt.imshow(X_data[id].reshape(64,64,3),cmap=\"gray\")\n",
        "  plt.axis(\"off\")\n",
        "  plt.show()"
      ]
    },
    {
      "cell_type": "code",
      "execution_count": null,
      "metadata": {
        "colab": {
          "base_uri": "https://localhost:8080/",
          "height": 288
        },
        "id": "2-CVPozSUF2U",
        "outputId": "2396b247-ea36-40ac-e567-539d55faff00"
      },
      "outputs": [
        {
          "output_type": "error",
          "ename": "IndexError",
          "evalue": "ignored",
          "traceback": [
            "\u001b[0;31m---------------------------------------------------------------------------\u001b[0m",
            "\u001b[0;31mIndexError\u001b[0m                                Traceback (most recent call last)",
            "\u001b[0;32m<ipython-input-7-5e13dc54cd7e>\u001b[0m in \u001b[0;36m<module>\u001b[0;34m()\u001b[0m\n\u001b[1;32m      1\u001b[0m \u001b[0mid\u001b[0m \u001b[0;34m=\u001b[0m \u001b[0mnp\u001b[0m\u001b[0;34m.\u001b[0m\u001b[0mrandom\u001b[0m\u001b[0;34m.\u001b[0m\u001b[0mrandint\u001b[0m\u001b[0;34m(\u001b[0m\u001b[0;36m0\u001b[0m\u001b[0;34m,\u001b[0m\u001b[0;36m1027\u001b[0m\u001b[0;34m)\u001b[0m\u001b[0;34m\u001b[0m\u001b[0;34m\u001b[0m\u001b[0m\n\u001b[0;32m----> 2\u001b[0;31m \u001b[0mShowImage\u001b[0m\u001b[0;34m(\u001b[0m\u001b[0mid\u001b[0m\u001b[0;34m,\u001b[0m\u001b[0mtrain_images\u001b[0m\u001b[0;34m)\u001b[0m\u001b[0;34m\u001b[0m\u001b[0;34m\u001b[0m\u001b[0m\n\u001b[0m",
            "\u001b[0;32m<ipython-input-6-2637287ad1de>\u001b[0m in \u001b[0;36mShowImage\u001b[0;34m(id, X_data)\u001b[0m\n\u001b[1;32m      1\u001b[0m \u001b[0;32mdef\u001b[0m \u001b[0mShowImage\u001b[0m\u001b[0;34m(\u001b[0m\u001b[0mid\u001b[0m\u001b[0;34m,\u001b[0m\u001b[0mX_data\u001b[0m\u001b[0;34m)\u001b[0m\u001b[0;34m:\u001b[0m\u001b[0;34m\u001b[0m\u001b[0;34m\u001b[0m\u001b[0m\n\u001b[0;32m----> 2\u001b[0;31m   \u001b[0mplt\u001b[0m\u001b[0;34m.\u001b[0m\u001b[0mimshow\u001b[0m\u001b[0;34m(\u001b[0m\u001b[0mX_data\u001b[0m\u001b[0;34m[\u001b[0m\u001b[0mid\u001b[0m\u001b[0;34m]\u001b[0m\u001b[0;34m.\u001b[0m\u001b[0mreshape\u001b[0m\u001b[0;34m(\u001b[0m\u001b[0;36m64\u001b[0m\u001b[0;34m,\u001b[0m\u001b[0;36m64\u001b[0m\u001b[0;34m,\u001b[0m\u001b[0;36m3\u001b[0m\u001b[0;34m)\u001b[0m\u001b[0;34m,\u001b[0m\u001b[0mcmap\u001b[0m\u001b[0;34m=\u001b[0m\u001b[0;34m\"gray\"\u001b[0m\u001b[0;34m)\u001b[0m\u001b[0;34m\u001b[0m\u001b[0;34m\u001b[0m\u001b[0m\n\u001b[0m\u001b[1;32m      3\u001b[0m   \u001b[0mplt\u001b[0m\u001b[0;34m.\u001b[0m\u001b[0maxis\u001b[0m\u001b[0;34m(\u001b[0m\u001b[0;34m\"off\"\u001b[0m\u001b[0;34m)\u001b[0m\u001b[0;34m\u001b[0m\u001b[0;34m\u001b[0m\u001b[0m\n\u001b[1;32m      4\u001b[0m   \u001b[0mplt\u001b[0m\u001b[0;34m.\u001b[0m\u001b[0mshow\u001b[0m\u001b[0;34m(\u001b[0m\u001b[0;34m)\u001b[0m\u001b[0;34m\u001b[0m\u001b[0;34m\u001b[0m\u001b[0m\n",
            "\u001b[0;31mIndexError\u001b[0m: list index out of range"
          ]
        }
      ],
      "source": [
        "id = np.random.randint(0,1027)\n",
        "ShowImage(id,train_images)"
      ]
    },
    {
      "cell_type": "markdown",
      "metadata": {
        "id": "L_6hAdVxvCOq"
      },
      "source": [
        "#$Basic$ $Models$"
      ]
    },
    {
      "cell_type": "code",
      "execution_count": null,
      "metadata": {
        "colab": {
          "base_uri": "https://localhost:8080/"
        },
        "id": "9KyS5DaVvWhe",
        "outputId": "6419aa6c-d34a-4aaa-a92a-60b90ecba54b"
      },
      "outputs": [
        {
          "name": "stdout",
          "output_type": "stream",
          "text": [
            "Epoch 1/10\n",
            "10/33 [========>.....................] - ETA: 40s - loss: 0.7309 - accuracy: 0.4969"
          ]
        }
      ],
      "source": [
        "cnn = tf.keras.models.Sequential()\n",
        "# First layer\n",
        "cnn.add(Conv2D(filters=64, kernel_size=5,strides=2,padding=\"same\", activation='relu', input_shape=(64, 64, 3)))\n",
        "cnn.add(MaxPool2D(pool_size=3, strides=2,padding=\"same\"))\n",
        "# Second layer\n",
        "cnn.add(Conv2D(filters=128, kernel_size=3,strides=1,padding=\"same\", activation='relu'))\n",
        "cnn.add(MaxPool2D(pool_size=3, strides=2,padding=\"same\"))\n",
        "cnn.add(Flatten())\n",
        "cnn.add(Dense(units=64, activation='relu'))\n",
        "cnn.add((Dropout(0.7)))\n",
        "cnn.add(Dense(units=1, activation='sigmoid'))\n",
        "cnn.compile(optimizer = 'adam', loss = keras.losses.binary_crossentropy, metrics = ['accuracy'])\n",
        "classifier = cnn.fit(x = training_set, validation_data = test_set, epochs = 10)"
      ]
    },
    {
      "cell_type": "code",
      "execution_count": null,
      "metadata": {
        "id": "IZoJhj_Wvp4s"
      },
      "outputs": [],
      "source": [
        "cnn.evaluate(test_set)"
      ]
    },
    {
      "cell_type": "code",
      "execution_count": null,
      "metadata": {
        "id": "w7Yo_HgYwCrs"
      },
      "outputs": [],
      "source": [
        "for i in range(10):\n",
        "    id = np.random.randint(0,1027)\n",
        "    plt.imshow(train_images[id].reshape(64,64,3),cmap=\"gray\")\n",
        "    plt.axis(\"off\")\n",
        "    plt.title(f\"Predicted : {class_names[int(cnn.predict(train_images[id].reshape(-1,64,64,3))[0][0])]}\")\n",
        "    plt.show()"
      ]
    },
    {
      "cell_type": "markdown",
      "metadata": {
        "id": "OQk_mhr3w8GI"
      },
      "source": [
        "#$Complex$ $Models$"
      ]
    },
    {
      "cell_type": "code",
      "execution_count": null,
      "metadata": {
        "id": "1lh_4YNRw8GI"
      },
      "outputs": [],
      "source": [
        "class ResNetBlock(Layer):\n",
        "    def __init__(self,units,strides,**kwargs):\n",
        "        super().__init__(**kwargs)\n",
        "        self.filters = units\n",
        "        self.stride = strides\n",
        "    def build(self,batch_size):\n",
        "        self.main_layers = [\n",
        "            Conv2D(self.filters,3,self.stride,padding=\"same\",use_bias=False,activation=None),\n",
        "            BatchNormalization(),\n",
        "            Activation('relu'),\n",
        "            Conv2D(self.filters,3,self.stride,padding=\"same\",activation=\"relu\"),\n",
        "            BatchNormalization(),\n",
        "        ]\n",
        "        self.skip_layers = [\n",
        "            Conv2D(self.filters,1,1,padding=\"same\",activation=\"relu\",kernel_initializer=\"he_normal\"),\n",
        "            BatchNormalization(),\n",
        "        ]\n",
        "        super().build(batch_size)\n",
        "    def call(self,X):\n",
        "        inputs = X\n",
        "        skip_input = X\n",
        "        for layers in self.main_layers:\n",
        "            inputs = layers(inputs)\n",
        "        for skip_layers in self.skip_layers:\n",
        "            skip_input = skip_layers(skip_input)\n",
        "        return Activation('relu')(inputs + skip_input)\n",
        "    def get_config(self):\n",
        "        return {\"units\":self.filters,\"strides\":self.stride}"
      ]
    },
    {
      "cell_type": "code",
      "execution_count": null,
      "metadata": {
        "id": "Z--Ngb6Ew8GJ"
      },
      "outputs": [],
      "source": [
        "ResNetModel = keras.Sequential()\n",
        "ResNetModel.add(InputLayer(input_shape=(64,64,3)))\n",
        "ResNetModel.add(Conv2D(32,3,1,\"same\",activation=\"relu\",kernel_initializer=\"he_normal\"))\n",
        "ResNetModel.add(MaxPool2D(3,2,\"same\"))\n",
        "ResNetModel.add(ResNetBlock(64,1))\n",
        "ResNetModel.add(ResNetBlock(64,1))\n",
        "ResNetModel.add(MaxPool2D(3,2,\"same\"))\n",
        "ResNetModel.add(Flatten())\n",
        "ResNetModel.add(Dropout(0.7))\n",
        "ResNetModel.add(Dense(1,activation=\"sigmoid\"))\n",
        "\n",
        "ResNetModel.compile(\n",
        "    loss=\"binary_crossentropy\",\n",
        "    optimizer=\"adam\",\n",
        "    metrics=[\"accuracy\"]\n",
        ")\n",
        "\n",
        "ES_CB = keras.callbacks.EarlyStopping(patience=5)\n",
        "ResNetModel.fit(\n",
        "    training_set,\n",
        "    validation_data=(test_set),\n",
        "    epochs=10,\n",
        "    callbacks=[ES_CB]\n",
        ")"
      ]
    },
    {
      "cell_type": "code",
      "execution_count": null,
      "metadata": {
        "id": "vUrRjbdJw8GJ"
      },
      "outputs": [],
      "source": [
        "ResNetModel.evaluate(test_set)\n"
      ]
    },
    {
      "cell_type": "code",
      "execution_count": null,
      "metadata": {
        "id": "0zBN8Zxrw8GK"
      },
      "outputs": [],
      "source": [
        "for i in range(10):\n",
        "    id = np.random.randint(0,1027)\n",
        "    plt.imshow(train_images[id].reshape(64,64,3),cmap=\"gray\")\n",
        "    plt.axis(\"off\")\n",
        "    plt.title(f\"Predicted : {class_names[int(ResNetModel.predict(train_images[id].reshape(-1,64,64,3))[0][0])]}\")\n",
        "    plt.show()"
      ]
    },
    {
      "cell_type": "markdown",
      "metadata": {
        "id": "WELEZJFbw8GK"
      },
      "source": [
        "This is better than the normal CNN model we have."
      ]
    },
    {
      "cell_type": "code",
      "execution_count": null,
      "metadata": {
        "id": "d2l-Af0kw8GK"
      },
      "outputs": [],
      "source": [
        "class ResNetBlock_02(Layer):\n",
        "    def __init__(self,units,strides,**kwargs):\n",
        "        super().__init__(**kwargs)\n",
        "        self.filters = units\n",
        "        self.stride = strides\n",
        "    def build(self,batch_size):\n",
        "        self.main_layers = [\n",
        "            Conv2D(self.filters,3,self.stride,padding=\"same\",use_bias=False,activation=None),\n",
        "            BatchNormalization(),\n",
        "            Activation('relu'),\n",
        "            Conv2D(self.filters,3,self.stride,padding=\"same\",activation=\"relu\"),\n",
        "            Dropout(0.3),\n",
        "            BatchNormalization(),\n",
        "        ]\n",
        "        self.skip_layers = [\n",
        "            Conv2D(self.filters,1,1,padding=\"same\",activation=\"relu\",kernel_initializer=\"he_normal\"),\n",
        "            Dropout(0.3),\n",
        "            BatchNormalization(),\n",
        "        ]\n",
        "        super().build(batch_size)\n",
        "    def call(self,X):\n",
        "        inputs = X\n",
        "        skip_input = X\n",
        "        for layers in self.main_layers:\n",
        "            inputs = layers(inputs)\n",
        "        for skip_layers in self.skip_layers:\n",
        "            skip_input = skip_layers(skip_input)\n",
        "        return Activation('relu')(inputs + skip_input)\n",
        "    def get_config(self):\n",
        "        return {\"units\":self.filters,\"strides\":self.stride}"
      ]
    },
    {
      "cell_type": "code",
      "execution_count": null,
      "metadata": {
        "id": "hLYK85zfw8GK"
      },
      "outputs": [],
      "source": [
        "ResNetModel_02 = keras.Sequential()\n",
        "ResNetModel_02.add(InputLayer(input_shape=(64,64,3)))\n",
        "ResNetModel_02.add(Conv2D(32,3,1,\"same\",activation=\"relu\",kernel_initializer=\"he_normal\"))\n",
        "ResNetModel_02.add(MaxPool2D(3,2,\"same\"))\n",
        "ResNetModel_02.add(ResNetBlock_02(64,1))\n",
        "ResNetModel_02.add(ResNetBlock_02(64,1))\n",
        "ResNetModel_02.add(MaxPool2D(3,2,\"same\"))\n",
        "ResNetModel_02.add(Flatten())\n",
        "ResNetModel_02.add(Dropout(0.7))\n",
        "ResNetModel_02.add(Dense(1,activation=\"sigmoid\"))\n",
        "\n",
        "ResNetModel_02.compile(\n",
        "    loss=\"binary_crossentropy\",\n",
        "    optimizer=\"adam\",\n",
        "    metrics=[\"accuracy\"]\n",
        ")\n",
        "\n",
        "ES_CB = keras.callbacks.EarlyStopping(patience=5)\n",
        "ResNetModel_02.fit(\n",
        "    training_set,\n",
        "    validation_data=(test_set),\n",
        "    epochs=5,\n",
        "    callbacks=[ES_CB]\n",
        ")"
      ]
    },
    {
      "cell_type": "code",
      "execution_count": null,
      "metadata": {
        "id": "tDQXGp7Hw8GL"
      },
      "outputs": [],
      "source": [
        "ResNetModel_02.evaluate(test_set)"
      ]
    },
    {
      "cell_type": "markdown",
      "metadata": {
        "id": "IjO6amFww8GL"
      },
      "source": [
        "This is way better than the Previous ResNet Model."
      ]
    }
  ],
  "metadata": {
    "accelerator": "GPU",
    "colab": {
      "collapsed_sections": [
        "-BnfxEcMhWA4",
        "dArhGWMzhXyA",
        "L_6hAdVxvCOq",
        "OQk_mhr3w8GI"
      ],
      "name": "Horseand_Human.ipynb",
      "provenance": []
    },
    "kernelspec": {
      "display_name": "Python 3",
      "language": "python",
      "name": "python3"
    },
    "language_info": {
      "codemirror_mode": {
        "name": "ipython",
        "version": 3
      },
      "file_extension": ".py",
      "mimetype": "text/x-python",
      "name": "python",
      "nbconvert_exporter": "python",
      "pygments_lexer": "ipython3",
      "version": "3.9.2"
    }
  },
  "nbformat": 4,
  "nbformat_minor": 0
}